{
 "cells": [
  {
   "attachments": {},
   "cell_type": "markdown",
   "metadata": {},
   "source": [
    "# Factor Expressions"
   ]
  },
  {
   "cell_type": "code",
   "execution_count": 1,
   "metadata": {},
   "outputs": [
    {
     "data": {
      "text/plain": [
       "'\\nts_step: n for today, n-1 for yesterday, ... 1 for last day; Smooth over the last 20 days, control the turnover\\n'"
      ]
     },
     "execution_count": 1,
     "metadata": {},
     "output_type": "execute_result"
    }
   ],
   "source": [
    "# Large volume implies bullish\n",
    "\n",
    "# group_neutralize(\n",
    "#   volume / (ts_sum(volume, 60) / 60),\n",
    "#   sector\n",
    "# )\n",
    "\n",
    "'''\n",
    "ts_sum: sum over last 60 days, \n",
    "group_neutralize: an int operator, neutralize alpha over the group, can use customized group for neutralization\n",
    "'''\n",
    "\n",
    "# Improvement\n",
    "\n",
    "# ts_step(20) * volume / (ts_sum(volume, 60) / 60)\n",
    "'''\n",
    "ts_step: n for today, n-1 for yesterday, ... 1 for last day; Smooth over the last 20 days, control the turnover\n",
    "'''"
   ]
  },
  {
   "cell_type": "code",
   "execution_count": 2,
   "metadata": {},
   "outputs": [],
   "source": [
    "# Reversion\n",
    "\n",
    "# rank(\n",
    "#   -(close - (ts_product(close, 5)) ^ 0.2)\n",
    "# )\n",
    "\n",
    "'''\n",
    "ts_product: product over last n days\n",
    "rank: weight equally between 0~1\n",
    "'''\n",
    "\n",
    "# Improvement\n",
    "\n",
    "# rank( -signedpower(close - sum(close, 5)/5, 2))\n",
    "\n",
    "'''\n",
    "signedpower(x, e) = sign(x) * (abs(x) ^ e)\n",
    "'''"
   ]
  },
  {
   "cell_type": "code",
   "execution_count": null,
   "metadata": {},
   "outputs": [],
   "source": [
    "# Idea: if volume ratio is increasing, then we expect a reversal because the market is absorbing the price info\n",
    "# if the volume ratio is decreasing, then the price will continue the trend because the market hasn't absorbed the info yet \n",
    "\n",
    "\n",
    "# - ts_corr(\n",
    "#   rank(close), rank(volume/adv20), 5\n",
    "#)\n",
    "'''\n",
    "ts_corr: correlation over last n days\n",
    "'''\n",
    "\n",
    "# Possible improvement: compare short corr vs long corr "
   ]
  },
  {
   "cell_type": "code",
   "execution_count": null,
   "metadata": {},
   "outputs": [],
   "source": [
    "# Combine ideas\n",
    "\n",
    "# A = expr1\n",
    "# B = expr2\n",
    "# rank(scale(A, scale=1, longscale=1, shortscale=1) + scale(B, scale=1, longscale=1, shortscale=1))"
   ]
  },
  {
   "cell_type": "code",
   "execution_count": null,
   "metadata": {},
   "outputs": [],
   "source": [
    "# GroupMean\n",
    "# rank(\n",
    "#   group_mean(ts_delta(close, 5), 1, subindustry) - ts_delta(close, 5))\n",
    "#)"
   ]
  },
  {
   "cell_type": "code",
   "execution_count": 3,
   "metadata": {},
   "outputs": [
    {
     "data": {
      "text/plain": [
       "'\\nlast_diff_value: diff for non-frequent data change\\n'"
      ]
     },
     "execution_count": 3,
     "metadata": {},
     "output_type": "execute_result"
    }
   ],
   "source": [
    "# Earningn per share\n",
    "\n",
    "# Looks like the alpha won't work\n",
    "# (rank(eps/last_diff_value(eps, 5)) > 0.7 || volume > ts_delay(volume, 1) ?\n",
    "# rank(-ts_delta(close, 5)) : -1\n",
    "\n",
    "'''\n",
    "last_diff_value: diff for non-frequent data change\n",
    "'''"
   ]
  },
  {
   "cell_type": "code",
   "execution_count": 1,
   "metadata": {},
   "outputs": [
    {
     "data": {
      "text/plain": [
       "'\\n\\n'"
      ]
     },
     "execution_count": 1,
     "metadata": {},
     "output_type": "execute_result"
    }
   ],
   "source": [
    "# triggerTrade = (ts_arg_max(volume, 5) < 1) && (volume>= ts_sum(volume, 5) / 5)\n",
    "# triggerExit = -1\n",
    "# alphaExp = -rank(ts_delta(close, 2))\n",
    "# trade_when(triggerTrade, alphaExp, triggerExit)\n",
    "\n",
    "'''\n",
    "ts_arg_max: if current dat is largest, return 0; if pervious day is the largest, return 1 etc\n",
    "'''\n",
    "\n",
    "\n",
    "# triggerTrade = (ts_arg_min(volume, 5) > 3) || (volume >= ts_sum(volume, 5) / 5)\n",
    "# triggerExit = -1\n",
    "# alphaExp = -rank((high + low) / 2 - close)\n",
    "# trade_when(triggerTrade, alphaExp, triggerExit)"
   ]
  },
  {
   "cell_type": "code",
   "execution_count": 2,
   "metadata": {},
   "outputs": [
    {
     "data": {
      "text/plain": [
       "\"\\nPasteurize: set to nan if the signal is inf, or instrument isn't in the universe\\n\""
      ]
     },
     "execution_count": 2,
     "metadata": {},
     "output_type": "execute_result"
    }
   ],
   "source": [
    "# Log(pasteurize(vwap/close))\n",
    "'''\n",
    "Pasteurize: set to nan if the signal is inf, or instrument isn't in the universe\n",
    "'''\n",
    "\n",
    "# rank(ts_covariance(ts_std_dev(-returns, 22), (vwap-close), 22))"
   ]
  },
  {
   "cell_type": "code",
   "execution_count": 3,
   "metadata": {},
   "outputs": [],
   "source": [
    "# TS Regression Operator\n",
    "\n",
    "# A = ts_regression(close, close, 20, LAG=1, RETTYPE=3)\n",
    "# B = ts_sum(ts_delay(close, 1), 2) / 2\n",
    "# C = (A - B) / close\n",
    "# D = 1 - rank(volume / ts_sum(volume, 30) / 30)\n",
    "# - ts_rank(C, 60) / D"
   ]
  },
  {
   "cell_type": "code",
   "execution_count": 4,
   "metadata": {},
   "outputs": [],
   "source": [
    "# Reversion using Min and Max\n",
    "\n",
    "# -(ts_sum(close-min(low, ts_delay(close, 1)), 5)  /  ts_sum(max(high, ts_delay(close, 1)) - low, 5))\n",
    "\n",
    "# -rank((close - ts_max(high, 5)) / (ts_max(high, 5)) - ts_min(low, 5))"
   ]
  },
  {
   "cell_type": "code",
   "execution_count": null,
   "metadata": {},
   "outputs": [],
   "source": []
  }
 ],
 "metadata": {
  "kernelspec": {
   "display_name": "base",
   "language": "python",
   "name": "python3"
  },
  "language_info": {
   "codemirror_mode": {
    "name": "ipython",
    "version": 3
   },
   "file_extension": ".py",
   "mimetype": "text/x-python",
   "name": "python",
   "nbconvert_exporter": "python",
   "pygments_lexer": "ipython3",
   "version": "3.10.9"
  },
  "orig_nbformat": 4
 },
 "nbformat": 4,
 "nbformat_minor": 2
}
