{
 "cells": [
  {
   "attachments": {},
   "cell_type": "markdown",
   "metadata": {},
   "source": [
    "# Factor Expressions"
   ]
  },
  {
   "cell_type": "code",
   "execution_count": 1,
   "metadata": {},
   "outputs": [
    {
     "data": {
      "text/plain": [
       "'\\nts_step: n for today, n-1 for yesterday, ... 1 for last day; Smooth over the last 20 days, control the turnover\\n'"
      ]
     },
     "execution_count": 1,
     "metadata": {},
     "output_type": "execute_result"
    }
   ],
   "source": [
    "# Large volume implies bullish\n",
    "\n",
    "# group_neutralize(\n",
    "#   volume / (ts_sum(volume, 60) / 60),\n",
    "#   sector\n",
    "# )\n",
    "\n",
    "'''\n",
    "ts_sum: sum over last 60 days, \n",
    "group_neutralize: an int operator, neutralize alpha over the group, can use customized group for neutralization\n",
    "'''\n",
    "\n",
    "# Improvement\n",
    "\n",
    "# ts_step(20) * volume / (ts_sum(volume, 60) / 60)\n",
    "'''\n",
    "ts_step: n for today, n-1 for yesterday, ... 1 for last day; Smooth over the last 20 days, control the turnover\n",
    "'''"
   ]
  },
  {
   "cell_type": "code",
   "execution_count": 2,
   "metadata": {},
   "outputs": [],
   "source": [
    "# Reversion\n",
    "\n",
    "# rank(\n",
    "#   -(close - (ts_product(close, 5)) ^ 0.2)\n",
    "# )\n",
    "\n",
    "'''\n",
    "ts_product: product over last n days\n",
    "rank: weight equally between 0~1\n",
    "'''\n",
    "\n",
    "# Improvement\n",
    "\n",
    "# rank( -signedpower(close - sum(close, 5)/5, 2))\n",
    "\n",
    "'''\n",
    "signedpower(x, e) = sign(x) * (abs(x) ^ e)\n",
    "'''"
   ]
  },
  {
   "cell_type": "code",
   "execution_count": null,
   "metadata": {},
   "outputs": [],
   "source": [
    "# Idea: if volume ratio is increasing, then we expect a reversal because the market is absorbing the price info\n",
    "# if the volume ratio is decreasing, then the price will continue the trend because the market hasn't absorbed the info yet \n",
    "\n",
    "\n",
    "# - ts_corr(\n",
    "#   rank(close), rank(volume/adv20), 5\n",
    "#)\n",
    "'''\n",
    "ts_corr: correlation over last n days\n",
    "'''\n",
    "\n",
    "# Possible improvement: compare short corr vs long corr "
   ]
  },
  {
   "cell_type": "code",
   "execution_count": null,
   "metadata": {},
   "outputs": [],
   "source": [
    "# Combine ideas\n",
    "\n",
    "# A = expr1\n",
    "# B = expr2\n",
    "# rank(scale(A, scale=1, longscale=1, shortscale=1) + scale(B, scale=1, longscale=1, shortscale=1))"
   ]
  },
  {
   "cell_type": "code",
   "execution_count": null,
   "metadata": {},
   "outputs": [],
   "source": [
    "# GroupMean\n",
    "# rank(\n",
    "#   group_mean(ts_delta(close, 5), 1, subindustry) - ts_delta(close, 5))\n",
    "#)"
   ]
  },
  {
   "cell_type": "code",
   "execution_count": 3,
   "metadata": {},
   "outputs": [
    {
     "data": {
      "text/plain": [
       "'\\nlast_diff_value: diff for non-frequent data change\\n'"
      ]
     },
     "execution_count": 3,
     "metadata": {},
     "output_type": "execute_result"
    }
   ],
   "source": [
    "# Earningn per share\n",
    "\n",
    "# Looks like the alpha won't work\n",
    "# (rank(eps/last_diff_value(eps, 5)) > 0.7 || volume > ts_delay(volume, 1) ?\n",
    "# rank(-ts_delta(close, 5)) : -1\n",
    "\n",
    "'''\n",
    "last_diff_value: diff for non-frequent data change\n",
    "'''"
   ]
  },
  {
   "cell_type": "code",
   "execution_count": null,
   "metadata": {},
   "outputs": [],
   "source": [
    "# "
   ]
  }
 ],
 "metadata": {
  "kernelspec": {
   "display_name": "base",
   "language": "python",
   "name": "python3"
  },
  "language_info": {
   "codemirror_mode": {
    "name": "ipython",
    "version": 3
   },
   "file_extension": ".py",
   "mimetype": "text/x-python",
   "name": "python",
   "nbconvert_exporter": "python",
   "pygments_lexer": "ipython3",
   "version": "3.10.9"
  },
  "orig_nbformat": 4
 },
 "nbformat": 4,
 "nbformat_minor": 2
}
