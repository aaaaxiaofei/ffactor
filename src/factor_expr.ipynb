{
 "cells": [
  {
   "attachments": {},
   "cell_type": "markdown",
   "metadata": {},
   "source": [
    "# Factor Expressions"
   ]
  },
  {
   "cell_type": "code",
   "execution_count": 1,
   "metadata": {},
   "outputs": [
    {
     "data": {
      "text/plain": [
       "'\\nts_step: n for today, n-1 for yesterday, ... 1 for last day; Smooth over the last 20 days, control the turnover\\n'"
      ]
     },
     "execution_count": 1,
     "metadata": {},
     "output_type": "execute_result"
    }
   ],
   "source": [
    "# Large volume implies bullish\n",
    "\n",
    "# group_neutralize(\n",
    "#   volume / (ts_sum(volume, 60) / 60),\n",
    "#   sector\n",
    "# )\n",
    "\n",
    "'''\n",
    "ts_sum: sum over last 60 days, \n",
    "group_neutralize: an int operator, neutralize alpha over the group, can use customized group for neutralization\n",
    "'''\n",
    "\n",
    "# Improvement\n",
    "\n",
    "# ts_step(20) * volume / (ts_sum(volume, 60) / 60)\n",
    "'''\n",
    "ts_step: n for today, n-1 for yesterday, ... 1 for last day; Smooth over the last 20 days, control the turnover\n",
    "'''"
   ]
  },
  {
   "cell_type": "code",
   "execution_count": 2,
   "metadata": {},
   "outputs": [],
   "source": [
    "# Reversion\n",
    "\n",
    "# rank(\n",
    "#   -(close - (ts_product(close, 5)) ^ 0.2)\n",
    "# )\n",
    "\n",
    "'''\n",
    "ts_product: product over last n days\n",
    "rank: weight equally between 0~1\n",
    "'''\n",
    "\n",
    "# Improvement\n",
    "\n",
    "# rank( -signedpower(close - sum(close, 5)/5, 2))\n",
    "\n",
    "'''\n",
    "signedpower(x, e) = sign(x) * (abs(x) ^ e)\n",
    "'''"
   ]
  },
  {
   "cell_type": "code",
   "execution_count": null,
   "metadata": {},
   "outputs": [],
   "source": [
    "# Idea: if volume ratio is increasing, then we expect a reversal because the market is absorbing the price info\n",
    "# if the volume ratio is decreasing, then the price will continue the trend because the market hasn't absorbed the info yet \n",
    "\n",
    "\n",
    "# - ts_corr(\n",
    "#   rank(close), rank(volume/adv20), 5\n",
    "#)\n",
    "'''\n",
    "ts_corr: correlation over last n days\n",
    "'''\n",
    "\n",
    "# Possible improvement: compare short corr vs long corr "
   ]
  },
  {
   "cell_type": "code",
   "execution_count": null,
   "metadata": {},
   "outputs": [],
   "source": [
    "# Combine ideas\n",
    "\n",
    "# A = expr1\n",
    "# B = expr2\n",
    "# rank(scale(A, scale=1, longscale=1, shortscale=1) + scale(B, scale=1, longscale=1, shortscale=1))"
   ]
  },
  {
   "cell_type": "code",
   "execution_count": null,
   "metadata": {},
   "outputs": [],
   "source": [
    "# GroupMean\n",
    "# rank(\n",
    "#   group_mean(ts_delta(close, 5), 1, subindustry) - ts_delta(close, 5))\n",
    "#)"
   ]
  },
  {
   "cell_type": "code",
   "execution_count": 3,
   "metadata": {},
   "outputs": [
    {
     "data": {
      "text/plain": [
       "'\\nlast_diff_value: diff for non-frequent data change\\n'"
      ]
     },
     "execution_count": 3,
     "metadata": {},
     "output_type": "execute_result"
    }
   ],
   "source": [
    "# Earningn per share\n",
    "\n",
    "# Looks like the alpha won't work\n",
    "# (rank(eps/last_diff_value(eps, 5)) > 0.7 || volume > ts_delay(volume, 1) ?\n",
    "# rank(-ts_delta(close, 5)) : -1\n",
    "\n",
    "'''\n",
    "last_diff_value: diff for non-frequent data change\n",
    "'''"
   ]
  },
  {
   "cell_type": "code",
   "execution_count": 1,
   "metadata": {},
   "outputs": [
    {
     "data": {
      "text/plain": [
       "'\\n\\n'"
      ]
     },
     "execution_count": 1,
     "metadata": {},
     "output_type": "execute_result"
    }
   ],
   "source": [
    "# triggerTrade = (ts_arg_max(volume, 5) < 1) && (volume>= ts_sum(volume, 5) / 5)\n",
    "# triggerExit = -1\n",
    "# alphaExp = -rank(ts_delta(close, 2))\n",
    "# trade_when(triggerTrade, alphaExp, triggerExit)\n",
    "\n",
    "'''\n",
    "ts_arg_max: if current dat is largest, return 0; if pervious day is the largest, return 1 etc\n",
    "'''\n",
    "\n",
    "\n",
    "# triggerTrade = (ts_arg_min(volume, 5) > 3) || (volume >= ts_sum(volume, 5) / 5)\n",
    "# triggerExit = -1\n",
    "# alphaExp = -rank((high + low) / 2 - close)\n",
    "# trade_when(triggerTrade, alphaExp, triggerExit)"
   ]
  },
  {
   "cell_type": "code",
   "execution_count": 2,
   "metadata": {},
   "outputs": [
    {
     "data": {
      "text/plain": [
       "\"\\nPasteurize: set to nan if the signal is inf, or instrument isn't in the universe\\n\""
      ]
     },
     "execution_count": 2,
     "metadata": {},
     "output_type": "execute_result"
    }
   ],
   "source": [
    "# Log(pasteurize(vwap/close))\n",
    "'''\n",
    "Pasteurize: set to nan if the signal is inf, or instrument isn't in the universe\n",
    "'''\n",
    "\n",
    "# rank(ts_covariance(ts_std_dev(-returns, 22), (vwap-close), 22))"
   ]
  },
  {
   "cell_type": "code",
   "execution_count": 3,
   "metadata": {},
   "outputs": [],
   "source": [
    "# TS Regression Operator\n",
    "\n",
    "# A = ts_regression(close, close, 20, LAG=1, RETTYPE=3)\n",
    "# B = ts_sum(ts_delay(close, 1), 2) / 2\n",
    "# C = (A - B) / close\n",
    "# D = 1 - rank(volume / ts_sum(volume, 30) / 30)\n",
    "# - ts_rank(C, 60) / D"
   ]
  },
  {
   "cell_type": "code",
   "execution_count": 4,
   "metadata": {},
   "outputs": [],
   "source": [
    "# Reversion using Min and Max\n",
    "\n",
    "# -(ts_sum(close-min(low, ts_delay(close, 1)), 5)  /  ts_sum(max(high, ts_delay(close, 1)) - low, 5))\n",
    "\n",
    "# -rank((close - ts_max(high, 5)) / (ts_max(high, 5)) - ts_min(low, 5))"
   ]
  },
  {
   "cell_type": "code",
   "execution_count": 1,
   "metadata": {},
   "outputs": [
    {
     "data": {
      "text/plain": [
       "\"\\n1. What is overfitting\\nOS performance is much worse than ID\\n\\n2. How to avoid overfitting\\n- Focus on the idea instead of backtesting\\n- Avoid changes result in very small improvement\\n- Logical parameter fitting (shouldn't try random number), use 5 (week), 10(biweek), 20(month), 60(3month), 120(half year), 250(year)\\n\\n3. Measure the robustness\\nTest on different subsets of the universe, e.g. created on top2000 and test on top 500, if performance decrease, means the alpha is trained on most illiquid equities\\n\\nPredictibility of alpha: remove the magnitute of signal (equalize capital of all stocks), the result is the alpha strength\\n\""
      ]
     },
     "execution_count": 1,
     "metadata": {},
     "output_type": "execute_result"
    }
   ],
   "source": [
    "# Overfitting\n",
    "\n",
    "'''\n",
    "1. What is overfitting\n",
    "OS performance is much worse than ID\n",
    "\n",
    "2. How to avoid overfitting\n",
    "- Focus on the idea instead of backtesting\n",
    "- Avoid changes result in very small improvement\n",
    "- Logical parameter fitting (shouldn't try random number), use 5 (week), 10(biweek), 20(month), 60(3month), 120(half year), 250(year)\n",
    "\n",
    "3. Measure the robustness\n",
    "Test on different subsets of the universe, e.g. created on top2000 and test on top 500, if performance decrease, means the alpha is trained on most illiquid equities\n",
    "\n",
    "Predictibility of alpha: remove the magnitute of signal (equalize capital of all stocks), the result is the alpha strength\n",
    "'''"
   ]
  },
  {
   "cell_type": "code",
   "execution_count": 1,
   "metadata": {},
   "outputs": [
    {
     "data": {
      "text/plain": [
       "'Bias\\n1. Look ahead bias\\n\\n2. Suvivorship bias\\nCoverage of the database\\n\\n3. Psychological bias\\nThere is 2% drawdown in backtest, when same thing happens in OS, PM may stop the strategy early in the drawdown, which may lose further bounce back.\\n'"
      ]
     },
     "execution_count": 1,
     "metadata": {},
     "output_type": "execute_result"
    }
   ],
   "source": [
    "'''Bias\n",
    "1. Look ahead bias\n",
    "\n",
    "2. Suvivorship bias\n",
    "Coverage of the database\n",
    "\n",
    "3. Psychological bias\n",
    "There is 2% drawdown in backtest, when same thing happens in OS, PM may stop the strategy early in the drawdown, which may lose further bounce back.\n",
    "'''"
   ]
  },
  {
   "attachments": {},
   "cell_type": "markdown",
   "metadata": {},
   "source": [
    "# Fundamental Data"
   ]
  },
  {
   "cell_type": "code",
   "execution_count": null,
   "metadata": {},
   "outputs": [],
   "source": [
    "# Debt vs Equity (Creditors vs Investors)\n",
    "\n",
    "# ts_rank(-debt/equity, 240)\n",
    "\n",
    "'''\n",
    "rank -debt/equity for each instrument over last 240 days (normalize), then return the rank of the value\n",
    "'''"
   ]
  },
  {
   "cell_type": "code",
   "execution_count": null,
   "metadata": {},
   "outputs": [],
   "source": [
    "# If debt/asset ratio decrease, then risk decrease, we should long\n",
    "\n",
    "# group_neutralize(rank(-ts_delta(debt, 60) / assets), sector)"
   ]
  },
  {
   "cell_type": "code",
   "execution_count": null,
   "metadata": {},
   "outputs": [],
   "source": [
    "# Inventory turnover: If a company can sell the products fast, it saves storage fee, insurance, deterioration\n",
    "\n",
    "# rank(ts_zscore(inventory_turnover, 240))\n",
    "\n",
    "# ts_zscore = (x - ts_mean(x)) / ts_std(x)"
   ]
  },
  {
   "cell_type": "code",
   "execution_count": 2,
   "metadata": {},
   "outputs": [],
   "source": [
    "# sales / share ---> upward momentum\n",
    "\n",
    "# sales_ps > last_diff_value(sales_ps, 5) ? 1 : rank(-ts_delta(close, 5))\n",
    "\n",
    "# last_diff_value: last different value within n days"
   ]
  },
  {
   "cell_type": "code",
   "execution_count": null,
   "metadata": {},
   "outputs": [],
   "source": [
    "# How efficient a company use its fixed assets to generate goods \n",
    "\n",
    "# rank(ts_rank(cogs / Ppent, 240)\n",
    "\n",
    "# cogs: cost of goods sold\n",
    "# ppent: property, plant, equitment\n",
    "\n",
    "\n",
    "# Combine with inventory turnover\n",
    "# rank(ts_rank(cogs / Ppent, 240) * (1 + rank(ts_rank(inventory_turnover, 240)))"
   ]
  },
  {
   "attachments": {},
   "cell_type": "markdown",
   "metadata": {},
   "source": [
    "## Analyst Data (Estimate if EPS)"
   ]
  },
  {
   "cell_type": "code",
   "execution_count": null,
   "metadata": {},
   "outputs": [],
   "source": [
    "# Higher estimation, higher potential to increase\n",
    "\n",
    "# rank(ts_rank(est_eps/close, 40))"
   ]
  },
  {
   "cell_type": "code",
   "execution_count": 3,
   "metadata": {},
   "outputs": [],
   "source": [
    "# Reversion using P/E\n",
    "\n",
    "# -rank(ts_delta(close/est_eps, 5))"
   ]
  },
  {
   "cell_type": "code",
   "execution_count": 4,
   "metadata": {},
   "outputs": [],
   "source": [
    "# est_epsr > last_diff_value(est_epsr, 5) ? 1 : rank(-ts_delta(close, 5))"
   ]
  },
  {
   "cell_type": "code",
   "execution_count": 5,
   "metadata": {},
   "outputs": [],
   "source": [
    "# Higher inventory / assets value is a problem, which may cause cashflow issue\n",
    "\n",
    "# (0.5 - rank(ts_rank(inventory/(asset - goodwill), 60))) * rank(ts_rank(inventory_turnover, 120))\n",
    "\n",
    "# goodwill is the brand value"
   ]
  },
  {
   "attachments": {},
   "cell_type": "markdown",
   "metadata": {},
   "source": [
    "## Relationship data"
   ]
  },
  {
   "cell_type": "code",
   "execution_count": 6,
   "metadata": {},
   "outputs": [],
   "source": [
    "# If per customer social sentiment is increasing, go long\n",
    "\n",
    "# ts_rank(snt_social_volume / rel_num_cust, 60)"
   ]
  },
  {
   "cell_type": "code",
   "execution_count": null,
   "metadata": {},
   "outputs": [],
   "source": [
    "# Customer\n",
    "\n",
    "# grouprank(subindustry, argmin(rel_ret_cust / rel_num_comp, 15))"
   ]
  },
  {
   "attachments": {},
   "cell_type": "markdown",
   "metadata": {},
   "source": [
    "# Sentiment Data"
   ]
  },
  {
   "cell_type": "code",
   "execution_count": 7,
   "metadata": {},
   "outputs": [],
   "source": [
    "# snt_value: mood indicator, negative is bearish, positive is bullish\n",
    "# snt_buzz: intensity of sentiment. >1 is high, <1 is low\n",
    "# snt_buzz_bfl: if historical data is missing, filled by 1\n",
    "# snt_buzz_ret: snt_buzz change from previous day\n",
    "# snt_bearish: scale 0-4\n",
    "# snt_bullish: scale 0-4\n",
    "# snt_ratio: bullish / bearish\n",
    "# snt_ratio_tsrank\n",
    "# snt_bearish_tsrank\n",
    "# snt_bullish_tsrank\n",
    "# snt_social_value: derive from social media\n",
    "# snt_social_volume: events from social media"
   ]
  },
  {
   "cell_type": "code",
   "execution_count": null,
   "metadata": {},
   "outputs": [],
   "source": [
    "'''\n",
    "rank(ts_rank(snt_social_volume, 60)) > 0.6 ? \n",
    "grouprank(subindustry, ((sum(snt_social+value, 10) / 10) / (ts_max(snt_social_value, 60)))) : 0\n",
    "'''"
   ]
  },
  {
   "cell_type": "code",
   "execution_count": 8,
   "metadata": {},
   "outputs": [
    {
     "data": {
      "text/plain": [
       "'\\nrank(((high + low) / 2 - close) / (high - low)) * \\nrank(ts_rank(snt_social_volume, 40))\\n'"
      ]
     },
     "execution_count": 8,
     "metadata": {},
     "output_type": "execute_result"
    }
   ],
   "source": [
    "# sentiment + price\n",
    "\n",
    "'''\n",
    "rank(((high + low) / 2 - close) / (high - low)) * \n",
    "rank(ts_rank(snt_social_volume, 40))\n",
    "'''"
   ]
  },
  {
   "cell_type": "code",
   "execution_count": 10,
   "metadata": {},
   "outputs": [],
   "source": [
    "# Sentiment strength\n",
    "\n",
    "# grouprank(market, snt_bullish/snt_bearish) * ts_rank(snt_social_volume, 254)"
   ]
  },
  {
   "cell_type": "code",
   "execution_count": 11,
   "metadata": {},
   "outputs": [
    {
     "data": {
      "text/plain": [
       "'\\ny = snt_bullish - snt_bearish\\n\\nrank(-(y - ts_min(y, 10)) / ts_max(y, 10) - ts_min(y, 10))) * \\n(1 + rank(snt_social_volume))\\n'"
      ]
     },
     "execution_count": 11,
     "metadata": {},
     "output_type": "execute_result"
    }
   ],
   "source": [
    "# If sentiment is high, then the reversion will happen in the future, vise versa\n",
    "\n",
    "'''\n",
    "y = snt_bullish - snt_bearish\n",
    "\n",
    "rank(-(y - ts_min(y, 10)) / ts_max(y, 10) - ts_min(y, 10))) * \n",
    "(1 + rank(snt_social_volume))\n",
    "'''"
   ]
  },
  {
   "cell_type": "code",
   "execution_count": null,
   "metadata": {},
   "outputs": [],
   "source": []
  }
 ],
 "metadata": {
  "kernelspec": {
   "display_name": "base",
   "language": "python",
   "name": "python3"
  },
  "language_info": {
   "codemirror_mode": {
    "name": "ipython",
    "version": 3
   },
   "file_extension": ".py",
   "mimetype": "text/x-python",
   "name": "python",
   "nbconvert_exporter": "python",
   "pygments_lexer": "ipython3",
   "version": "3.10.9"
  },
  "orig_nbformat": 4
 },
 "nbformat": 4,
 "nbformat_minor": 2
}
